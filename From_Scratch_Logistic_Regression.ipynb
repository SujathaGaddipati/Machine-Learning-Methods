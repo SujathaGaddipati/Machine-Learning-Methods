{
 "cells": [
  {
   "cell_type": "code",
   "execution_count": 65,
   "metadata": {},
   "outputs": [
    {
     "name": "stdout",
     "output_type": "stream",
     "text": [
      "/Users/Sujatha/Desktop/ML-Linear_regression/sgemm_product_dataset\n"
     ]
    }
   ],
   "source": [
    "cd ~/Desktop/ML-Linear_regression/sgemm_product_dataset ## working directory "
   ]
  },
  {
   "cell_type": "code",
   "execution_count": 66,
   "metadata": {},
   "outputs": [
    {
     "name": "stdout",
     "output_type": "stream",
     "text": [
      "<class 'pandas.core.frame.DataFrame'>\n",
      "RangeIndex: 241600 entries, 0 to 241599\n",
      "Data columns (total 18 columns):\n",
      "MWG          241600 non-null int64\n",
      "NWG          241600 non-null int64\n",
      "KWG          241600 non-null int64\n",
      "MDIMC        241600 non-null int64\n",
      "NDIMC        241600 non-null int64\n",
      "MDIMA        241600 non-null int64\n",
      "NDIMB        241600 non-null int64\n",
      "KWI          241600 non-null int64\n",
      "VWM          241600 non-null int64\n",
      "VWN          241600 non-null int64\n",
      "STRM         241600 non-null int64\n",
      "STRN         241600 non-null int64\n",
      "SA           241600 non-null int64\n",
      "SB           241600 non-null int64\n",
      "Run1 (ms)    241600 non-null float64\n",
      "Run2 (ms)    241600 non-null float64\n",
      "Run3 (ms)    241600 non-null float64\n",
      "Run4 (ms)    241600 non-null float64\n",
      "dtypes: float64(4), int64(14)\n",
      "memory usage: 33.2 MB\n"
     ]
    },
    {
     "data": {
      "text/plain": [
       "((241600, 18), MWG            int64\n",
       " NWG            int64\n",
       " KWG            int64\n",
       " MDIMC          int64\n",
       " NDIMC          int64\n",
       " MDIMA          int64\n",
       " NDIMB          int64\n",
       " KWI            int64\n",
       " VWM            int64\n",
       " VWN            int64\n",
       " STRM           int64\n",
       " STRN           int64\n",
       " SA             int64\n",
       " SB             int64\n",
       " Run1 (ms)    float64\n",
       " Run2 (ms)    float64\n",
       " Run3 (ms)    float64\n",
       " Run4 (ms)    float64\n",
       " dtype: object, None)"
      ]
     },
     "execution_count": 66,
     "metadata": {},
     "output_type": "execute_result"
    }
   ],
   "source": [
    "import pandas as pd\n",
    "import numpy as np\n",
    "import matplotlib as mpl\n",
    "import matplotlib.pyplot as plt\n",
    "\n",
    "data = pd.read_csv('sgemm_product.csv') # loading the dataset from directory\n",
    "data = pd.DataFrame(data)\n",
    "data.shape, data.dtypes, data.info() #dataset shape, datatypes and null values "
   ]
  },
  {
   "cell_type": "code",
   "execution_count": 67,
   "metadata": {},
   "outputs": [
    {
     "data": {
      "text/plain": [
       "MWG          int64\n",
       "NWG          int64\n",
       "KWG          int64\n",
       "MDIMC        int64\n",
       "NDIMC        int64\n",
       "MDIMA        int64\n",
       "NDIMB        int64\n",
       "KWI          int64\n",
       "VWM          int64\n",
       "VWN          int64\n",
       "STRM         int64\n",
       "STRN         int64\n",
       "SA           int64\n",
       "SB           int64\n",
       "avg_run    float64\n",
       "dtype: object"
      ]
     },
     "execution_count": 67,
     "metadata": {},
     "output_type": "execute_result"
    }
   ],
   "source": [
    "data.columns = [c.replace(' ', '_') for c in data.columns] # space in col names are replaced by '_'\n",
    "\n",
    "col = data.loc[ : ,\"Run1_(ms)\":\"Run4_(ms)\"]\n",
    "\n",
    "data['avg_run'] = col.mean(axis = 1) # calculating avg run from the 4 runs\n",
    "\n",
    "data = data.drop([\"Run1_(ms)\",\"Run2_(ms)\", \"Run3_(ms)\", \"Run4_(ms)\"], axis=1)\n",
    "data.dtypes # dropped the run time variables as we have the avg_run"
   ]
  },
  {
   "cell_type": "markdown",
   "metadata": {},
   "source": [
    "### Descriptive statistics to determine the classification of the last column avg_run"
   ]
  },
  {
   "cell_type": "code",
   "execution_count": 68,
   "metadata": {},
   "outputs": [
    {
     "data": {
      "text/plain": [
       "<matplotlib.axes._subplots.AxesSubplot at 0x124447bd0>"
      ]
     },
     "execution_count": 68,
     "metadata": {},
     "output_type": "execute_result"
    },
    {
     "data": {
      "image/png": "[encoded data removed]",
      "text/plain": [
       "<Figure size 432x288 with 1 Axes>"
      ]
     },
     "metadata": {},
     "output_type": "display_data"
    }
   ],
   "source": [
    "data['avg_run'].hist() ## data is skewed with large number of observations in less than 500 ms runtime"
   ]
  },
  {
   "cell_type": "code",
   "execution_count": 69,
   "metadata": {},
   "outputs": [
    {
     "data": {
      "text/plain": [
       "<matplotlib.axes._subplots.AxesSubplot at 0x128279850>"
      ]
     },
     "execution_count": 69,
     "metadata": {},
     "output_type": "execute_result"
    },
    {
     "data": {
      "image/png": "[encoded data removed]",
      "text/plain": [
       "<Figure size 432x288 with 1 Axes>"
      ]
     },
     "metadata": {},
     "output_type": "display_data"
    }
   ],
   "source": [
    "data['avg_run'].plot.box()"
   ]
  },
  {
   "cell_type": "code",
   "execution_count": 70,
   "metadata": {},
   "outputs": [
    {
     "data": {
      "text/plain": [
       "count    241600.000000\n",
       "mean        217.571953\n",
       "std         368.750161\n",
       "min          13.317500\n",
       "25%          40.667500\n",
       "50%          69.790000\n",
       "75%         228.387500\n",
       "max        3341.507500\n",
       "Name: avg_run, dtype: float64"
      ]
     },
     "execution_count": 70,
     "metadata": {},
     "output_type": "execute_result"
    }
   ],
   "source": [
    "data['avg_run'].describe()"
   ]
  },
  {
   "cell_type": "code",
   "execution_count": 71,
   "metadata": {},
   "outputs": [
    {
     "data": {
      "text/plain": [
       "(9.988000000000001, 124.257]    146069\n",
       "(124.257, 235.197]               36617\n",
       "(235.197, 346.136]               21268\n",
       "(457.076, 568.016]               12356\n",
       "(789.895, 900.835]                4260\n",
       "(568.016, 678.955]                3887\n",
       "(678.955, 789.895]                3269\n",
       "(900.835, 1011.774]               2820\n",
       "(346.136, 457.076]                2612\n",
       "(1122.714, 1233.654]              1869\n",
       "(2343.05, 2453.99]                1306\n",
       "(1011.774, 1122.714]              1082\n",
       "(1566.473, 1677.412]               633\n",
       "(1455.533, 1566.473]               455\n",
       "(1677.412, 1788.352]               436\n",
       "(2121.171, 2232.111]               417\n",
       "(2232.111, 2343.05]                305\n",
       "(2010.231, 2121.171]               280\n",
       "(1899.292, 2010.231]               272\n",
       "(1233.654, 1344.594]               269\n",
       "(1788.352, 1899.292]               243\n",
       "(3119.628, 3230.568]               241\n",
       "(1344.594, 1455.533]               207\n",
       "(2453.99, 2564.93]                 180\n",
       "(3008.688, 3119.628]               177\n",
       "(3230.568, 3341.507]                57\n",
       "(2897.749, 3008.688]                 9\n",
       "(2564.93, 2675.87]                   4\n",
       "(2675.87, 2786.809]                  0\n",
       "(2786.809, 2897.749]                 0\n",
       "Name: avg_run, dtype: int64"
      ]
     },
     "execution_count": 71,
     "metadata": {},
     "output_type": "execute_result"
    }
   ],
   "source": [
    "data['avg_run'].value_counts(bins = 30)           "
   ]
  },
  {
   "cell_type": "markdown",
   "metadata": {},
   "source": [
    "### Not removing any observations as outliers we will split the data across the median i.e values lower than or equal to 69.79 ~ 70 ms are high speed run time and above that are low speed run time"
   ]
  },
  {
   "cell_type": "code",
   "execution_count": 72,
   "metadata": {},
   "outputs": [],
   "source": [
    "high_speed_data = data[data['avg_run'] <= 70]\n",
    "low_speed_data = data[data['avg_run'] > 70]"
   ]
  },
  {
   "cell_type": "code",
   "execution_count": 73,
   "metadata": {},
   "outputs": [
    {
     "data": {
      "text/plain": [
       "count    121129.000000\n",
       "mean         42.698753\n",
       "std          12.755422\n",
       "min          13.317500\n",
       "25%          33.377500\n",
       "50%          40.710000\n",
       "75%          51.305000\n",
       "max          70.000000\n",
       "Name: avg_run, dtype: float64"
      ]
     },
     "execution_count": 73,
     "metadata": {},
     "output_type": "execute_result"
    }
   ],
   "source": [
    "high_speed_data['avg_run'].describe()"
   ]
  },
  {
   "cell_type": "code",
   "execution_count": 74,
   "metadata": {},
   "outputs": [
    {
     "data": {
      "text/plain": [
       "count    120471.000000\n",
       "mean        393.400293\n",
       "std         459.205636\n",
       "min          70.002500\n",
       "25%         132.863750\n",
       "50%         229.107500\n",
       "75%         494.503750\n",
       "max        3341.507500\n",
       "Name: avg_run, dtype: float64"
      ]
     },
     "execution_count": 74,
     "metadata": {},
     "output_type": "execute_result"
    }
   ],
   "source": [
    "low_speed_data['avg_run'].describe()"
   ]
  },
  {
   "cell_type": "code",
   "execution_count": 75,
   "metadata": {},
   "outputs": [],
   "source": [
    "data['Class'] =data['avg_run'].apply(lambda x: 1 if x <= 70 else 0)"
   ]
  },
  {
   "cell_type": "code",
   "execution_count": 76,
   "metadata": {},
   "outputs": [],
   "source": [
    "log_data = data.drop([\"avg_run\"], axis = 1)"
   ]
  },
  {
   "cell_type": "code",
   "execution_count": 77,
   "metadata": {},
   "outputs": [
    {
     "data": {
      "text/plain": [
       "1    121129\n",
       "0    120471\n",
       "Name: Class, dtype: int64"
      ]
     },
     "execution_count": 77,
     "metadata": {},
     "output_type": "execute_result"
    }
   ],
   "source": [
    "log_data[\"Class\"].value_counts() ## balanced data"
   ]
  },
  {
   "cell_type": "code",
   "execution_count": 78,
   "metadata": {},
   "outputs": [
    {
     "data": {
      "text/plain": [
       "((169120, 15), (72480, 15))"
      ]
     },
     "execution_count": 78,
     "metadata": {},
     "output_type": "execute_result"
    }
   ],
   "source": [
    "## Split our data into 70% train and 30%test\n",
    "log_data = log_data.sample(frac=1) ## random distribution of data\n",
    "\n",
    "log_train_index = int(0.7 * log_data.shape[0])\n",
    "\n",
    "log_train = log_data.head(log_train_index)\n",
    "log_test = log_data.tail(log_data.shape[0] - log_train_index)\n",
    "\n",
    "log_train.shape,log_test.shape"
   ]
  },
  {
   "cell_type": "code",
   "execution_count": 79,
   "metadata": {},
   "outputs": [
    {
     "data": {
      "text/plain": [
       "((169120, 15), (169120,), (15,))"
      ]
     },
     "execution_count": 79,
     "metadata": {},
     "output_type": "execute_result"
    }
   ],
   "source": [
    "X = log_train.iloc[:, :14] # X variables from the dataset\n",
    "\n",
    "x = np.full([169120,1],1) # X(0) variables added for beta(0) variables as 1\n",
    "X = np.hstack((x,X)) # full set of X variables\n",
    "\n",
    "Y = log_train[\"Class\"] # Y avriables\n",
    "\n",
    "B = np.zeros(X.shape[1]) # beta variables\n",
    "\n",
    "X.shape, Y.shape, B.shape #dimensions for the X, Y, beta vectors"
   ]
  },
  {
   "cell_type": "code",
   "execution_count": 81,
   "metadata": {},
   "outputs": [
    {
     "data": {
      "text/plain": [
       "((72480, 15), (72480,))"
      ]
     },
     "execution_count": 81,
     "metadata": {},
     "output_type": "execute_result"
    }
   ],
   "source": [
    "## Test data\n",
    "test_X = log_test.iloc[:, :14]\n",
    "x = np.full([72480,1],1) # X(0) variables added for beta(0) variables as 1\n",
    "test_X = np.hstack((x,test_X)) # full set of X variables\n",
    "\n",
    "test_Y = log_test[\"Class\"]\n",
    "\n",
    "test_X.shape, test_Y.shape"
   ]
  },
  {
   "cell_type": "code",
   "execution_count": 86,
   "metadata": {},
   "outputs": [
    {
     "data": {
      "text/plain": [
       "(0.6931471805599453, 0.6931471805599453)"
      ]
     },
     "execution_count": 86,
     "metadata": {},
     "output_type": "execute_result"
    }
   ],
   "source": [
    "## Defining the cost MSE function\n",
    "\n",
    "def cost_function(X_var, Y_actual, B_var):\n",
    "    m = len(Y_actual)\n",
    "    Y_pred = 1/(1+np.exp(-(np.dot(X_var, B_var))))\n",
    "\n",
    "    cost = [0] * Y_actual.shape[0]\n",
    "    for j in range(Y_actual.shape[0]):\n",
    "        if Y_actual.iloc[j] == 1:\n",
    "            cost[j] = np.log(Y_pred[j])\n",
    "        else:\n",
    "            cost[j] = np.log(1-(Y_pred[j]))\n",
    "    tcost = np.sum(cost)/(-m)\n",
    "    return tcost\n",
    "\n",
    "train_cost = cost_function(X, Y, B)\n",
    "test_cost = cost_function(test_X, test_Y, B)\n",
    "train_cost, test_cost"
   ]
  },
  {
   "cell_type": "code",
   "execution_count": 51,
   "metadata": {},
   "outputs": [],
   "source": [
    "## Define batch gradient function\n",
    "\n",
    "def gradient_descent(X_var, Y_actual, B_var, alpha, iterations):\n",
    "    m = len(Y_actual)\n",
    "    cost_history = np.zeros(iterations)\n",
    "    temp_B_var = B_var.copy()\n",
    "    \n",
    "    for iteration in range(0, iterations):\n",
    "        Y_pred = 1/(1+np.exp(-(np.dot(X_var, B_var))))\n",
    "        cost = cost_function(X_var, Y_actual, B_var)\n",
    "        cost_history[iteration] = cost\n",
    "\n",
    "# threshold for the cost reduction\n",
    "        #if abs(cost_history[iteration] - cost_history[iteration - 1]) <= 0.0001:\n",
    "            #print(\"Break \",cost_history[iteration],\" \", cost_history[iteration-1], iteration)\n",
    "            #break\n",
    "               \n",
    "# Because we have added added X0 = 1 for beta(0), we are updating all together\n",
    "        for j in range (0, 15):\n",
    "            temp_B_var[j] = B_var[j] - (alpha/m) * sum((Y_pred - Y_actual) * X_var[:,j])\n",
    "        B_var = temp_B_var.copy()\n",
    "            \n",
    "    return B_var, cost_history"
   ]
  },
  {
   "cell_type": "markdown",
   "metadata": {},
   "source": [
    "### 1st experiment\n",
    "### Experiment with various parameters for linear and logistic regression (e.g. learning rate ∝) and report on your findings as how the error/accuracy varies for train and test sets with varying these parameters. Plot the results. Report the best values of the parameters."
   ]
  },
  {
   "cell_type": "code",
   "execution_count": 37,
   "metadata": {},
   "outputs": [
    {
     "data": {
      "text/plain": [
       "(array([ 0.00297116, -0.02577084, -0.01518552,  0.01491385,  0.08522812,\n",
       "         0.07022597,  0.0168314 ,  0.01704702,  0.0136373 ,  0.00605709,\n",
       "         0.00961857,  0.00657786,  0.00195696,  0.00781329,  0.00273801]),\n",
       " array([0.69314718, 0.68477026, 0.68056384, ..., 0.50617092, 0.50616537,\n",
       "        0.50615982]))"
      ]
     },
     "execution_count": 37,
     "metadata": {},
     "output_type": "execute_result"
    }
   ],
   "source": [
    "# alpha = 0.0001 & iterations = 2000\n",
    "\n",
    "alpha_11 = 0.0001\n",
    "iterations_11 = 2000\n",
    "\n",
    "new_B_11,cost_11 = gradient_descent(X, Y, B, alpha_11, iterations_11)\n",
    "\n",
    "new_B_11, cost_11"
   ]
  },
  {
   "cell_type": "code",
   "execution_count": 102,
   "metadata": {},
   "outputs": [
    {
     "data": {
      "image/png": "[encoded data removed]",
      "text/plain": [
       "<Figure size 432x288 with 1 Axes>"
      ]
     },
     "metadata": {},
     "output_type": "display_data"
    }
   ],
   "source": [
    "itera_11 = np.arange(iterations_11)\n",
    "#itera.shape\n",
    "plt.style.use('seaborn-whitegrid')\n",
    "plt.plot(itera_11, cost_11, color='blue')\n",
    "plt.title(\"alpha : 0.0001\");"
   ]
  },
  {
   "cell_type": "code",
   "execution_count": 84,
   "metadata": {},
   "outputs": [
    {
     "data": {
      "text/plain": [
       "(0.5075942172596597, 0.5058654165207969)"
      ]
     },
     "execution_count": 84,
     "metadata": {},
     "output_type": "execute_result"
    }
   ],
   "source": [
    "## Fit to test data\n",
    "\n",
    "B_11 = new_B_11\n",
    "\n",
    "test_Y_pred_11 = 1/(1+np.exp(-(np.dot(test_X, B_11))))\n",
    "                    \n",
    "train_error_11 = cost_function(X, Y, B_11)\n",
    "test_error_11 = cost_function(test_X, test_Y, B_11)\n",
    "\n",
    "train_error_11 , test_error_11"
   ]
  },
  {
   "cell_type": "code",
   "execution_count": null,
   "metadata": {},
   "outputs": [],
   "source": [
    "# alpha = 0.001 & iterations = 2000\n",
    "\n",
    "alpha_12 = 0.001\n",
    "iterations_12 = 2000\n",
    "\n",
    "new_B_12,cost_12 = gradient_descent(X, Y, B, alpha_12, iterations_12)\n",
    "\n",
    "new_B_12, cost_12"
   ]
  },
  {
   "cell_type": "code",
   "execution_count": null,
   "metadata": {},
   "outputs": [],
   "source": [
    "itera_12 = np.arange(iterations_12)\n",
    "plt.style.use('seaborn-whitegrid')\n",
    "plt.plot(itera_12, cost_12, color='blue')\n",
    "plt.title(\"log_alpha = 0.001\");"
   ]
  },
  {
   "cell_type": "code",
   "execution_count": null,
   "metadata": {},
   "outputs": [],
   "source": [
    "## Fit to test data\n",
    "\n",
    "B_12 = new_B_12\n",
    "\n",
    "test_Y_pred_12 = 1/(1+np.exp(-(np.dot(test_X, B_12))))\n",
    "                    \n",
    "train_error_12 = cost_function(X, Y, B_12)\n",
    "test_error_12 = cost_function(test_X, test_Y, B_12)\n",
    "\n",
    "train_error_12 , test_error_12"
   ]
  },
  {
   "cell_type": "code",
   "execution_count": null,
   "metadata": {},
   "outputs": [],
   "source": [
    "# alpha = 0.00001 & iterations = 2000\n",
    "\n",
    "alpha_13 = 0.00001\n",
    "iterations_13 = 2000\n",
    "\n",
    "new_B_13,cost_13 = gradient_descent(X, Y, B, alpha_13, iterations_13)\n",
    "\n",
    "new_B_13, cost_13"
   ]
  },
  {
   "cell_type": "code",
   "execution_count": null,
   "metadata": {},
   "outputs": [],
   "source": [
    "itera_13 = np.arange(iterations_13)\n",
    "#itera.shape\n",
    "plt.style.use('seaborn-whitegrid')\n",
    "plt.plot(itera_13, cost_13, color='blue')\n",
    "plt.title(\"alpha = 0.00001\");"
   ]
  },
  {
   "cell_type": "code",
   "execution_count": null,
   "metadata": {},
   "outputs": [],
   "source": [
    "## Fit to test data\n",
    "\n",
    "B_13 = new_B_13\n",
    "\n",
    "test_Y_pred_13 = 1/(1+np.exp(-(np.dot(test_X, B_13))))\n",
    "                    \n",
    "train_error_13 = cost_function(X, Y, B_13)\n",
    "test_error_13 = cost_function(test_X, test_Y, B_13)\n",
    "train_error_13 , test_error_13"
   ]
  },
  {
   "cell_type": "code",
   "execution_count": null,
   "metadata": {},
   "outputs": [],
   "source": [
    "# alpha = 0.00001 & iterations = 2000\n",
    "\n",
    "alpha_14 = 0.00005\n",
    "iterations_14 = 2000\n",
    "\n",
    "new_B_14,cost_14 = gradient_descent(X, Y, B, alpha_14, iterations_14)\n",
    "\n",
    "new_B_14, cost_14"
   ]
  },
  {
   "cell_type": "code",
   "execution_count": null,
   "metadata": {},
   "outputs": [],
   "source": [
    "itera_14 = np.arange(iterations_14)\n",
    "#itera.shape\n",
    "plt.style.use('seaborn-whitegrid')\n",
    "plt.plot(itera_14, cost_14, color='blue')\n",
    "plt.title(\"alpha = 0.00005\");"
   ]
  },
  {
   "cell_type": "code",
   "execution_count": null,
   "metadata": {},
   "outputs": [],
   "source": [
    "## Fit to test data\n",
    "\n",
    "B_14 = new_B_14\n",
    "\n",
    "test_Y_pred_14 = 1/(1+np.exp(-(np.dot(test_X, B_14))))\n",
    "                    \n",
    "train_error_14 = cost_function(X, Y, B_14)\n",
    "test_error_14 = cost_function(test_X, test_Y, B_14)\n",
    "train_error_14 , test_error_14"
   ]
  },
  {
   "cell_type": "markdown",
   "metadata": {},
   "source": [
    "### Experiment 2: Experiment with various thresholds for convergence for linear and logistic regression. Plot error results for train and test sets as a function of threshold and describe how varying the threshold affects error. Pick your best threshold and plot train and test error (in one figure) as a function of number of gradient descent iterations."
   ]
  },
  {
   "cell_type": "code",
   "execution_count": 90,
   "metadata": {},
   "outputs": [
    {
     "name": "stdout",
     "output_type": "stream",
     "text": [
      "Break  0.6849632542269878   0.6931471805599453 1\n",
      "[ 1.86258278e-07 -8.57398297e-04 -4.81631977e-04  1.41721854e-05\n",
      "  7.52719962e-05  6.16272469e-05  1.01277200e-05  1.94489120e-05\n",
      "  1.63552507e-06 -1.67783231e-05 -7.92366367e-06  2.65905866e-06\n",
      "  3.68673132e-07  3.23172895e-06  7.47693945e-07] [0.69314718 0.68496325 0.         ... 0.         0.         0.        ]\n"
     ]
    },
    {
     "data": {
      "image/png": "[encoded data removed]",
      "text/plain": [
       "<Figure size 432x288 with 1 Axes>"
      ]
     },
     "metadata": {},
     "output_type": "display_data"
    }
   ],
   "source": [
    "## Define batch gradient function\n",
    "\n",
    "def gradient_descent(X_var, Y_actual, B_var, alpha, iterations):\n",
    "    m = len(Y_actual)\n",
    "    cost_history = np.zeros(iterations)\n",
    "    temp_B_var = B_var.copy()\n",
    "    \n",
    "    for iteration in range(0, iterations):\n",
    "        Y_pred = 1/(1+np.exp(-(np.dot(X_var, B_var))))\n",
    "        cost = cost_function(X_var, Y_actual, B_var)\n",
    "        cost_history[iteration] = cost\n",
    "\n",
    "# threshold for the cost reduction\n",
    "        if abs(cost_history[iteration] - cost_history[iteration - 1]) <= 0.1:\n",
    "            print(\"Break \",cost_history[iteration],\" \", cost_history[iteration-1], iteration)\n",
    "            break\n",
    "               \n",
    "# Because we have added added X0 = 1 for beta(0), we are updating all together\n",
    "        for j in range (0, 15):\n",
    "            temp_B_var[j] = B_var[j] - (alpha/m) * sum((Y_pred - Y_actual) * X_var[:,j])\n",
    "        B_var = temp_B_var.copy()\n",
    "            \n",
    "    return B_var, cost_history\n",
    "\n",
    "\n",
    "# alpha = 0.00001 & iterations = 2000\n",
    "alpha_21 = 0.0001\n",
    "iterations_21 = 2000\n",
    "\n",
    "new_B_21,cost_21 = gradient_descent(X, Y, B, alpha_21, iterations_21)\n",
    "print(new_B_21, cost_21)\n",
    "\n",
    "### Cost Graph\n",
    "itera_21 = np.arange(iterations_21)\n",
    "#itera.shape\n",
    "plt.style.use('seaborn-whitegrid')\n",
    "plt.plot(itera_21, cost_21, color='blue')\n",
    "plt.title(\"threshold = 0.1\");"
   ]
  },
  {
   "cell_type": "code",
   "execution_count": 91,
   "metadata": {},
   "outputs": [
    {
     "data": {
      "text/plain": [
       "(0.6849632542269878, 0.6847354923901283)"
      ]
     },
     "execution_count": 91,
     "metadata": {},
     "output_type": "execute_result"
    }
   ],
   "source": [
    "## Fit to test data\n",
    "\n",
    "B_21 = new_B_21\n",
    "\n",
    "test_Y_pred_21 = 1/(1+np.exp(-(np.dot(test_X, B_21))))\n",
    "                    \n",
    "train_error_21 = cost_function(X, Y, B_21)\n",
    "test_error_21 = cost_function(test_X, test_Y, B_21)\n",
    "train_error_21 , test_error_21"
   ]
  },
  {
   "cell_type": "code",
   "execution_count": 92,
   "metadata": {},
   "outputs": [
    {
     "name": "stdout",
     "output_type": "stream",
     "text": [
      "Break  0.6849632542269878   0.6931471805599453 1\n",
      "[ 1.86258278e-07 -8.57398297e-04 -4.81631977e-04  1.41721854e-05\n",
      "  7.52719962e-05  6.16272469e-05  1.01277200e-05  1.94489120e-05\n",
      "  1.63552507e-06 -1.67783231e-05 -7.92366367e-06  2.65905866e-06\n",
      "  3.68673132e-07  3.23172895e-06  7.47693945e-07] [0.69314718 0.68496325 0.         ... 0.         0.         0.        ]\n"
     ]
    },
    {
     "data": {
      "image/png": "[encoded data removed]",
      "text/plain": [
       "<Figure size 432x288 with 1 Axes>"
      ]
     },
     "metadata": {},
     "output_type": "display_data"
    }
   ],
   "source": [
    "## Define batch gradient function\n",
    "\n",
    "def gradient_descent(X_var, Y_actual, B_var, alpha, iterations):\n",
    "    m = len(Y_actual)\n",
    "    cost_history = np.zeros(iterations)\n",
    "    temp_B_var = B_var.copy()\n",
    "    \n",
    "    for iteration in range(0, iterations):\n",
    "        Y_pred = 1/(1+np.exp(-(np.dot(X_var, B_var))))\n",
    "        cost = cost_function(X_var, Y_actual, B_var)\n",
    "        cost_history[iteration] = cost\n",
    "\n",
    "# threshold for the cost reduction\n",
    "        if abs(cost_history[iteration] - cost_history[iteration - 1]) <= 0.01:\n",
    "            print(\"Break \",cost_history[iteration],\" \", cost_history[iteration-1], iteration)\n",
    "            break\n",
    "               \n",
    "# Because we have added added X0 = 1 for beta(0), we are updating all together\n",
    "        for j in range (0, 15):\n",
    "            temp_B_var[j] = B_var[j] - (alpha/m) * sum((Y_pred - Y_actual) * X_var[:,j])\n",
    "        B_var = temp_B_var.copy()\n",
    "            \n",
    "    return B_var, cost_history\n",
    "\n",
    "\n",
    "# alpha = 0.0001 & iterations = 2000\n",
    "alpha_22 = 0.0001\n",
    "iterations_22 = 2000\n",
    "\n",
    "new_B_22,cost_22 = gradient_descent(X, Y, B, alpha_22, iterations_22)\n",
    "print(new_B_22, cost_22)\n",
    "\n",
    "### Cost Graph\n",
    "itera_22 = np.arange(iterations_22)\n",
    "#itera.shape\n",
    "plt.style.use('seaborn-whitegrid')\n",
    "plt.plot(itera_22, cost_22, color='blue')\n",
    "plt.title(\"threshold = 0.01\");"
   ]
  },
  {
   "cell_type": "code",
   "execution_count": 93,
   "metadata": {},
   "outputs": [
    {
     "data": {
      "text/plain": [
       "(0.6849632542269878, 0.6847354923901283)"
      ]
     },
     "execution_count": 93,
     "metadata": {},
     "output_type": "execute_result"
    }
   ],
   "source": [
    "## Fit to test data\n",
    "\n",
    "B_22 = new_B_22\n",
    "\n",
    "test_Y_pred_22 = 1/(1+np.exp(-(np.dot(test_X, B_22))))\n",
    "                    \n",
    "train_error_22 = cost_function(X, Y, B_22)\n",
    "test_error_22 = cost_function(test_X, test_Y, B_22)\n",
    "train_error_22 , test_error_22"
   ]
  },
  {
   "cell_type": "code",
   "execution_count": 98,
   "metadata": {},
   "outputs": [
    {
     "name": "stdout",
     "output_type": "stream",
     "text": [
      "Break  0.5433566778616257   0.5434561875111943 320\n",
      "[ 0.00117229 -0.01866778 -0.00944203  0.02453116  0.03341667  0.028191\n",
      "  0.01858214  0.01829567  0.00586276  0.00086821  0.00179912  0.00140283\n",
      "  0.00067333  0.00159289  0.00079447] [0.69314718 0.68496325 0.68084169 ... 0.         0.         0.        ]\n"
     ]
    },
    {
     "data": {
      "image/png": "[encoded data removed]",
      "text/plain": [
       "<Figure size 432x288 with 1 Axes>"
      ]
     },
     "metadata": {},
     "output_type": "display_data"
    }
   ],
   "source": [
    "## Define batch gradient function\n",
    "\n",
    "def gradient_descent(X_var, Y_actual, B_var, alpha, iterations):\n",
    "    m = len(Y_actual)\n",
    "    cost_history = np.zeros(iterations)\n",
    "    temp_B_var = B_var.copy()\n",
    "    \n",
    "    for iteration in range(0, iterations):\n",
    "        Y_pred = 1/(1+np.exp(-(np.dot(X_var, B_var))))\n",
    "        cost = cost_function(X_var, Y_actual, B_var)\n",
    "        cost_history[iteration] = cost\n",
    "\n",
    "# threshold for the cost reduction\n",
    "        if abs(cost_history[iteration] - cost_history[iteration - 1]) <= 0.0001:\n",
    "            print(\"Break \",cost_history[iteration],\" \", cost_history[iteration-1], iteration)\n",
    "            break\n",
    "               \n",
    "# Because we have added added X0 = 1 for beta(0), we are updating all together\n",
    "        for j in range (0, 15):\n",
    "            temp_B_var[j] = B_var[j] - (alpha/m) * sum((Y_pred - Y_actual) * X_var[:,j])\n",
    "        B_var = temp_B_var.copy()\n",
    "            \n",
    "    return B_var, cost_history\n",
    "\n",
    "\n",
    "# alpha = 0.0001 & iterations = 2000\n",
    "alpha_23 = 0.0001\n",
    "iterations_23 = 2000\n",
    "\n",
    "new_B_23,cost_23 = gradient_descent(X, Y, B, alpha_23, iterations_23)\n",
    "print(new_B_23, cost_23)\n",
    "\n",
    "### Cost Graph\n",
    "itera_23 = np.arange(iterations_23)\n",
    "#itera.shape\n",
    "plt.style.use('seaborn-whitegrid')\n",
    "plt.plot(itera_23, cost_23, color='blue')\n",
    "plt.title(\"threshold = 0.001\");"
   ]
  },
  {
   "cell_type": "code",
   "execution_count": 99,
   "metadata": {},
   "outputs": [
    {
     "data": {
      "text/plain": [
       "(0.5433566778616257, 0.5422459502584304)"
      ]
     },
     "execution_count": 99,
     "metadata": {},
     "output_type": "execute_result"
    }
   ],
   "source": [
    "## Fit to test data\n",
    "\n",
    "B_23 = new_B_23\n",
    "\n",
    "test_Y_pred_23 = 1/(1+np.exp(-(np.dot(test_X, B_23))))\n",
    "                    \n",
    "train_error_23 = cost_function(X, Y, B_23)\n",
    "test_error_23 = cost_function(test_X, test_Y, B_23)\n",
    "train_error_23 , test_error_23"
   ]
  },
  {
   "cell_type": "code",
   "execution_count": 100,
   "metadata": {},
   "outputs": [
    {
     "ename": "KeyboardInterrupt",
     "evalue": "",
     "output_type": "error",
     "traceback": [
      "\u001b[0;31m---------------------------------------------------------------------------\u001b[0m",
      "\u001b[0;31mKeyboardInterrupt\u001b[0m                         Traceback (most recent call last)",
      "\u001b[0;32m<ipython-input-100-9a84526fbed7>\u001b[0m in \u001b[0;36m<module>\u001b[0;34m\u001b[0m\n\u001b[1;32m     28\u001b[0m \u001b[0miterations_24\u001b[0m \u001b[0;34m=\u001b[0m \u001b[0;36m2000\u001b[0m\u001b[0;34m\u001b[0m\u001b[0;34m\u001b[0m\u001b[0m\n\u001b[1;32m     29\u001b[0m \u001b[0;34m\u001b[0m\u001b[0m\n\u001b[0;32m---> 30\u001b[0;31m \u001b[0mnew_B_24\u001b[0m\u001b[0;34m,\u001b[0m\u001b[0mcost_24\u001b[0m \u001b[0;34m=\u001b[0m \u001b[0mgradient_descent\u001b[0m\u001b[0;34m(\u001b[0m\u001b[0mX\u001b[0m\u001b[0;34m,\u001b[0m \u001b[0mY\u001b[0m\u001b[0;34m,\u001b[0m \u001b[0mB\u001b[0m\u001b[0;34m,\u001b[0m \u001b[0malpha_24\u001b[0m\u001b[0;34m,\u001b[0m \u001b[0miterations_24\u001b[0m\u001b[0;34m)\u001b[0m\u001b[0;34m\u001b[0m\u001b[0;34m\u001b[0m\u001b[0m\n\u001b[0m\u001b[1;32m     31\u001b[0m \u001b[0mprint\u001b[0m\u001b[0;34m(\u001b[0m\u001b[0mnew_B_24\u001b[0m\u001b[0;34m,\u001b[0m \u001b[0mcost_24\u001b[0m\u001b[0;34m)\u001b[0m\u001b[0;34m\u001b[0m\u001b[0;34m\u001b[0m\u001b[0m\n\u001b[1;32m     32\u001b[0m \u001b[0;34m\u001b[0m\u001b[0m\n",
      "\u001b[0;32m<ipython-input-100-9a84526fbed7>\u001b[0m in \u001b[0;36mgradient_descent\u001b[0;34m(X_var, Y_actual, B_var, alpha, iterations)\u001b[0m\n\u001b[1;32m      8\u001b[0m     \u001b[0;32mfor\u001b[0m \u001b[0miteration\u001b[0m \u001b[0;32min\u001b[0m \u001b[0mrange\u001b[0m\u001b[0;34m(\u001b[0m\u001b[0;36m0\u001b[0m\u001b[0;34m,\u001b[0m \u001b[0miterations\u001b[0m\u001b[0;34m)\u001b[0m\u001b[0;34m:\u001b[0m\u001b[0;34m\u001b[0m\u001b[0;34m\u001b[0m\u001b[0m\n\u001b[1;32m      9\u001b[0m         \u001b[0mY_pred\u001b[0m \u001b[0;34m=\u001b[0m \u001b[0;36m1\u001b[0m\u001b[0;34m/\u001b[0m\u001b[0;34m(\u001b[0m\u001b[0;36m1\u001b[0m\u001b[0;34m+\u001b[0m\u001b[0mnp\u001b[0m\u001b[0;34m.\u001b[0m\u001b[0mexp\u001b[0m\u001b[0;34m(\u001b[0m\u001b[0;34m-\u001b[0m\u001b[0;34m(\u001b[0m\u001b[0mnp\u001b[0m\u001b[0;34m.\u001b[0m\u001b[0mdot\u001b[0m\u001b[0;34m(\u001b[0m\u001b[0mX_var\u001b[0m\u001b[0;34m,\u001b[0m \u001b[0mB_var\u001b[0m\u001b[0;34m)\u001b[0m\u001b[0;34m)\u001b[0m\u001b[0;34m)\u001b[0m\u001b[0;34m)\u001b[0m\u001b[0;34m\u001b[0m\u001b[0;34m\u001b[0m\u001b[0m\n\u001b[0;32m---> 10\u001b[0;31m         \u001b[0mcost\u001b[0m \u001b[0;34m=\u001b[0m \u001b[0mcost_function\u001b[0m\u001b[0;34m(\u001b[0m\u001b[0mX_var\u001b[0m\u001b[0;34m,\u001b[0m \u001b[0mY_actual\u001b[0m\u001b[0;34m,\u001b[0m \u001b[0mB_var\u001b[0m\u001b[0;34m)\u001b[0m\u001b[0;34m\u001b[0m\u001b[0;34m\u001b[0m\u001b[0m\n\u001b[0m\u001b[1;32m     11\u001b[0m         \u001b[0mcost_history\u001b[0m\u001b[0;34m[\u001b[0m\u001b[0miteration\u001b[0m\u001b[0;34m]\u001b[0m \u001b[0;34m=\u001b[0m \u001b[0mcost\u001b[0m\u001b[0;34m\u001b[0m\u001b[0;34m\u001b[0m\u001b[0m\n\u001b[1;32m     12\u001b[0m \u001b[0;34m\u001b[0m\u001b[0m\n",
      "\u001b[0;32m<ipython-input-86-d1806b19f745>\u001b[0m in \u001b[0;36mcost_function\u001b[0;34m(X_var, Y_actual, B_var)\u001b[0m\n\u001b[1;32m      7\u001b[0m     \u001b[0mcost\u001b[0m \u001b[0;34m=\u001b[0m \u001b[0;34m[\u001b[0m\u001b[0;36m0\u001b[0m\u001b[0;34m]\u001b[0m \u001b[0;34m*\u001b[0m \u001b[0mY_actual\u001b[0m\u001b[0;34m.\u001b[0m\u001b[0mshape\u001b[0m\u001b[0;34m[\u001b[0m\u001b[0;36m0\u001b[0m\u001b[0;34m]\u001b[0m\u001b[0;34m\u001b[0m\u001b[0;34m\u001b[0m\u001b[0m\n\u001b[1;32m      8\u001b[0m     \u001b[0;32mfor\u001b[0m \u001b[0mj\u001b[0m \u001b[0;32min\u001b[0m \u001b[0mrange\u001b[0m\u001b[0;34m(\u001b[0m\u001b[0mY_actual\u001b[0m\u001b[0;34m.\u001b[0m\u001b[0mshape\u001b[0m\u001b[0;34m[\u001b[0m\u001b[0;36m0\u001b[0m\u001b[0;34m]\u001b[0m\u001b[0;34m)\u001b[0m\u001b[0;34m:\u001b[0m\u001b[0;34m\u001b[0m\u001b[0;34m\u001b[0m\u001b[0m\n\u001b[0;32m----> 9\u001b[0;31m         \u001b[0;32mif\u001b[0m \u001b[0mY_actual\u001b[0m\u001b[0;34m.\u001b[0m\u001b[0miloc\u001b[0m\u001b[0;34m[\u001b[0m\u001b[0mj\u001b[0m\u001b[0;34m]\u001b[0m \u001b[0;34m==\u001b[0m \u001b[0;36m1\u001b[0m\u001b[0;34m:\u001b[0m\u001b[0;34m\u001b[0m\u001b[0;34m\u001b[0m\u001b[0m\n\u001b[0m\u001b[1;32m     10\u001b[0m             \u001b[0mcost\u001b[0m\u001b[0;34m[\u001b[0m\u001b[0mj\u001b[0m\u001b[0;34m]\u001b[0m \u001b[0;34m=\u001b[0m \u001b[0mnp\u001b[0m\u001b[0;34m.\u001b[0m\u001b[0mlog\u001b[0m\u001b[0;34m(\u001b[0m\u001b[0mY_pred\u001b[0m\u001b[0;34m[\u001b[0m\u001b[0mj\u001b[0m\u001b[0;34m]\u001b[0m\u001b[0;34m)\u001b[0m\u001b[0;34m\u001b[0m\u001b[0;34m\u001b[0m\u001b[0m\n\u001b[1;32m     11\u001b[0m         \u001b[0;32melse\u001b[0m\u001b[0;34m:\u001b[0m\u001b[0;34m\u001b[0m\u001b[0;34m\u001b[0m\u001b[0m\n",
      "\u001b[0;32m~/opt/anaconda3/lib/python3.7/site-packages/pandas/core/indexing.py\u001b[0m in \u001b[0;36m__getitem__\u001b[0;34m(self, key)\u001b[0m\n\u001b[1;32m   1421\u001b[0m             \u001b[0maxis\u001b[0m \u001b[0;34m=\u001b[0m \u001b[0mself\u001b[0m\u001b[0;34m.\u001b[0m\u001b[0maxis\u001b[0m \u001b[0;32mor\u001b[0m \u001b[0;36m0\u001b[0m\u001b[0;34m\u001b[0m\u001b[0;34m\u001b[0m\u001b[0m\n\u001b[1;32m   1422\u001b[0m \u001b[0;34m\u001b[0m\u001b[0m\n\u001b[0;32m-> 1423\u001b[0;31m             \u001b[0mmaybe_callable\u001b[0m \u001b[0;34m=\u001b[0m \u001b[0mcom\u001b[0m\u001b[0;34m.\u001b[0m\u001b[0mapply_if_callable\u001b[0m\u001b[0;34m(\u001b[0m\u001b[0mkey\u001b[0m\u001b[0;34m,\u001b[0m \u001b[0mself\u001b[0m\u001b[0;34m.\u001b[0m\u001b[0mobj\u001b[0m\u001b[0;34m)\u001b[0m\u001b[0;34m\u001b[0m\u001b[0;34m\u001b[0m\u001b[0m\n\u001b[0m\u001b[1;32m   1424\u001b[0m             \u001b[0;32mreturn\u001b[0m \u001b[0mself\u001b[0m\u001b[0;34m.\u001b[0m\u001b[0m_getitem_axis\u001b[0m\u001b[0;34m(\u001b[0m\u001b[0mmaybe_callable\u001b[0m\u001b[0;34m,\u001b[0m \u001b[0maxis\u001b[0m\u001b[0;34m=\u001b[0m\u001b[0maxis\u001b[0m\u001b[0;34m)\u001b[0m\u001b[0;34m\u001b[0m\u001b[0;34m\u001b[0m\u001b[0m\n\u001b[1;32m   1425\u001b[0m \u001b[0;34m\u001b[0m\u001b[0m\n",
      "\u001b[0;31mKeyboardInterrupt\u001b[0m: "
     ]
    }
   ],
   "source": [
    "## Define batch gradient function\n",
    "\n",
    "def gradient_descent(X_var, Y_actual, B_var, alpha, iterations):\n",
    "    m = len(Y_actual)\n",
    "    cost_history = np.zeros(iterations)\n",
    "    temp_B_var = B_var.copy()\n",
    "    \n",
    "    for iteration in range(0, iterations):\n",
    "        Y_pred = 1/(1+np.exp(-(np.dot(X_var, B_var))))\n",
    "        cost = cost_function(X_var, Y_actual, B_var)\n",
    "        cost_history[iteration] = cost\n",
    "\n",
    "# threshold for the cost reduction\n",
    "        if abs(cost_history[iteration] - cost_history[iteration - 1]) <= 0.000001:\n",
    "            print(\"Break \",cost_history[iteration],\" \", cost_history[iteration-1], iteration)\n",
    "            break\n",
    "               \n",
    "# Because we have added added X0 = 1 for beta(0), we are updating all together\n",
    "        for j in range (0, 15):\n",
    "            temp_B_var[j] = B_var[j] - (alpha/m) * sum((Y_pred - Y_actual) * X_var[:,j])\n",
    "        B_var = temp_B_var.copy()\n",
    "            \n",
    "    return B_var, cost_history\n",
    "\n",
    "\n",
    "# alpha = 0.0001 & iterations = 2000\n",
    "alpha_24 = 0.0001\n",
    "iterations_24 = 2000\n",
    "\n",
    "new_B_24,cost_24 = gradient_descent(X, Y, B, alpha_24, iterations_24)\n",
    "print(new_B_24, cost_24)\n",
    "\n",
    "### Cost Graph\n",
    "itera_24 = np.arange(iterations_24)\n",
    "#itera.shape\n",
    "plt.style.use('seaborn-whitegrid')\n",
    "plt.plot(itera_24, cost_24, color='blue')\n",
    "plt.title(\"threshold = 0.000001\");"
   ]
  },
  {
   "cell_type": "code",
   "execution_count": null,
   "metadata": {},
   "outputs": [],
   "source": [
    "## Fit to test data\n",
    "\n",
    "B_24 = new_B_24\n",
    "\n",
    "test_Y_pred_24 = 1/(1+np.exp(-(np.dot(test_X, B_24))))\n",
    "                    \n",
    "train_error_24 = cost_function(X, Y, B_24)\n",
    "test_error_24 = cost_function(test_X, test_Y, B_24)\n",
    "train_error_24, test_error_24"
   ]
  },
  {
   "cell_type": "markdown",
   "metadata": {},
   "source": [
    "### Experiment 3\n",
    "\n",
    "#### To select 8 random columns I have used randint() from numpy that selects random integer value within the specified range, based on those numbers the columns would be selected."
   ]
  },
  {
   "cell_type": "code",
   "execution_count": null,
   "metadata": {},
   "outputs": [],
   "source": [
    "import random\n",
    "random.seed(123)\n",
    "random.sample(range(1,14),8)"
   ]
  },
  {
   "cell_type": "markdown",
   "metadata": {},
   "source": [
    "So now as per the number generated, the columns are\n",
    "1 = MWG  \n",
    "5 = NDIMC  \n",
    "2 = NWG  \n",
    "7 = NDIMB  \n",
    "12 = STRN  \n",
    "11 = STRM  \n",
    "10 = VWN  \n",
    "13 = SA  "
   ]
  },
  {
   "cell_type": "code",
   "execution_count": null,
   "metadata": {},
   "outputs": [],
   "source": [
    "X_experiment3 = train[[\"MWG\",\"NDIMC\", \"NWG\", \"NDIMB\", \"STRN\", \"STRM\", \"VWN\",\"SA\"]]\n",
    "x = np.full([169120,1],1) # X(0) variables added for beta(0) variables as 1\n",
    "X_experiment3 = np.hstack((x,X_experiment3)) # full set of X variables\n",
    "\n",
    "Y = Y = train[\"avg_run\"] # Y avriables\n",
    "\n",
    "B = np.zeros(X_experiment3.shape[1]) # Initial values of beta variables\n",
    "\n",
    "X_experiment3.shape, Y.shape#, B.shape #dimensions for the X, Y, beta vectors"
   ]
  },
  {
   "cell_type": "code",
   "execution_count": null,
   "metadata": {},
   "outputs": [],
   "source": [
    "test_X_experiment3 = test[[\"MWG\",\"NDIMC\", \"NWG\", \"NDIMB\", \"STRN\", \"STRM\", \"VWN\",\"SA\"]]\n",
    "x = np.full([72480,1],1) # X(0) variables added for beta(0) variables as 1\n",
    "test_X_experiment3 = np.hstack((x,test_X_experiment3)) # full set of X variables\n",
    "\n",
    "test_Y = test[\"avg_run\"] # Y avriables\n",
    "\n",
    "\n",
    "test_X_experiment3.shape, test_Y.shape#, B.shape #dimensions for the X, Y, beta vectors"
   ]
  },
  {
   "cell_type": "code",
   "execution_count": null,
   "metadata": {},
   "outputs": [],
   "source": [
    "## Define batch gradient function\n",
    "\n",
    "def gradient_descent(X_var, Y_actual, B_var, alpha, iterations):\n",
    "    m = len(Y_actual)\n",
    "    cost_history = np.zeros(iterations)\n",
    "    temp_B_var = B_var.copy()\n",
    "    \n",
    "    for iteration in range(0, iterations):\n",
    "        Y_pred = 1/(1+np.exp(-(np.dot(X_var, B_var))))\n",
    "        cost = cost_function(X_var, Y_actual, B_var)\n",
    "        cost_history[iteration] = cost\n",
    "\n",
    "# threshold for the cost reduction\n",
    "        if abs(cost_history[iteration] - cost_history[iteration - 1]) <= 0.000001:\n",
    "            print(\"Break \",cost_history[iteration],\" \", cost_history[iteration-1], iteration)\n",
    "            break\n",
    "               \n",
    "# Because we have added added X0 = 1 for beta(0), we are updating all together\n",
    "        for j in range (0, 15):\n",
    "            temp_B_var[j] = B_var[j] - (alpha/m) * sum((Y_pred - Y_actual) * X_var[:,j])\n",
    "        B_var = temp_B_var.copy()\n",
    "            \n",
    "    return B_var, cost_history\n",
    "\n",
    "\n",
    "# alpha = 0.0001 & iterations = 2000\n",
    "alpha_3 = 0.0001\n",
    "iterations_3 = 2000\n",
    "\n",
    "new_B_3,cost_3 = gradient_descent(X_experiment3, Y, B, alpha_3, iterations_3)\n",
    "print(new_B_3, cost_3)"
   ]
  },
  {
   "cell_type": "code",
   "execution_count": null,
   "metadata": {},
   "outputs": [],
   "source": [
    "train_error_experiment3 = cost_function(X_experiment3, Y, new_B_3)\n",
    "test_error_experiment3 = cost_function(test_X_experiment3, test_Y, new_B_3)\n",
    "\n",
    "train_error = cost_function(X, Y, new_B_24)\n",
    "test_error = cost_function(test_X, Y_test, new_B_24)\n",
    "                           \n",
    "print(\"train_error_experiment3: \", train_error_experiment3) \n",
    "print(\"test_error_experiment3: \", test_error_experiment3)\n",
    "print(\"train_error: \", train_error)\n",
    "print(\"test_error: \", test_error)"
   ]
  },
  {
   "cell_type": "markdown",
   "metadata": {},
   "source": [
    "### Experiment 4: Now pick eight features that you think are best suited to predict the output, and retrain your models using these ten features. Compare to the case of using your original set of features and to the random features case. Did your choice of features provide better results than picking random features? Why? Did your choice of features provide better results than using all features? Why?"
   ]
  },
  {
   "cell_type": "code",
   "execution_count": null,
   "metadata": {},
   "outputs": [],
   "source": [
    "#### I choose my 8 variables from the correlation matrix. Overall the numbers are quite low, but they do have some effect. As per the results the varaibles are\n",
    "1)\tMWG  \n",
    "2)\tNWG  \n",
    "3)\tVWM  \n",
    "4)\tVWN  \n",
    "5)\tMDIMC  \n",
    "6)\tNDIMC  \n",
    "7)\tSA  \n",
    "8)\tSB  "
   ]
  },
  {
   "cell_type": "code",
   "execution_count": null,
   "metadata": {},
   "outputs": [],
   "source": [
    "X_experiment4 = train[[\"MWG\",\"NDIMC\", \"NWG\", \"MDIMC\", \"SB\", \"VWM\", \"VWN\",\"SA\"]]\n",
    "x = np.full([169120,1],1) # X(0) variables added for beta(0) variables as 1\n",
    "X_experiment4 = np.hstack((x,X_experiment4)) # full set of X variables\n",
    "\n",
    "Y = Y = train[\"avg_run\"] # Y avriables\n",
    "\n",
    "B = np.zeros(X_experiment4.shape[1]) # Initial values of beta variables\n",
    "\n",
    "X_experiment4.shape, Y.shape#, B.shape #dimensions for the X, Y, beta vectors"
   ]
  },
  {
   "cell_type": "code",
   "execution_count": null,
   "metadata": {},
   "outputs": [],
   "source": [
    "test_X_experiment4 = test[[\"MWG\",\"NDIMC\", \"NWG\", \"MDIMC\", \"SB\", \"VWM\", \"VWN\",\"SA\"]]\n",
    "x = np.full([72480,1],1) # X(0) variables added for beta(0) variables as 1\n",
    "test_X_experiment4 = np.hstack((x,test_X_experiment4)) # full set of X variables\n",
    "\n",
    "test_Y = test[\"avg_run\"] # Y avriables\n",
    "\n",
    "\n",
    "test_X_experiment4.shape, test_Y.shape#, B.shape #dimensions for the X, Y, beta vectors"
   ]
  },
  {
   "cell_type": "code",
   "execution_count": null,
   "metadata": {},
   "outputs": [],
   "source": [
    "# Retraining the model with optimum alpha, threshold and iterations\n",
    "def gradient_descent(X_var, Y_actual, B_var, alpha, iterations):\n",
    "    m = len(Y_actual)\n",
    "    cost_history = np.zeros(iterations)\n",
    "    temp_B_var = B_var.copy()\n",
    "    \n",
    "    \n",
    "    for iteration in range(0, iterations):\n",
    "        Y_pred = np.dot(X_var, B_var)\n",
    "        cost = cost_function(X_var, Y_actual, B_var)\n",
    "        cost_history[iteration] = cost\n",
    "\n",
    "# threshold for the cost reduction\n",
    "        if abs(cost_history[iteration] - cost_history[iteration - 1]) <= 0.000001:\n",
    "            print(iteration,cost_history[iteration],\" \", cost_history[iteration-1])\n",
    "            break\n",
    "               \n",
    "# Because we have added added X0 = 1 for beta(0), we are updating all together\n",
    "        for j in range (0, 15):\n",
    "            temp_B_var[j] = B_var[j] - (alpha/m) * sum((Y_pred - Y_actual) * X_var[:,j])\n",
    "        B_var = temp_B_var.copy()\n",
    "        \n",
    "            \n",
    "    return B_var, cost_history\n",
    "\n",
    "\n",
    "alpha_4 = 0.0001\n",
    "iterations_4 = 2000\n",
    "\n",
    "new_B_4,cost_4 = gradient_descent(X_experiment4, Y, B, alpha_3, iterations_3)\n",
    "\n",
    "new_B_4, cost_4"
   ]
  },
  {
   "cell_type": "code",
   "execution_count": null,
   "metadata": {},
   "outputs": [],
   "source": [
    "train_error_experiment4 = cost_function(X_experiment4, Y, new_B_4)\n",
    "test_error_experiment4 = cost_function(test_X_experiment4, test_Y, new_B_4)\n",
    "\n",
    "train_error = cost_function(X, Y, new_B_24)\n",
    "test_error = cost_function(test_X, Y_test, new_B_24)\n",
    "                           \n",
    "print(\"train_error_experiment4: \", train_error_experiment4) \n",
    "print(\"test_error_experiment4: \", test_error_experiment4)\n",
    "print(\"train_error: \", train_error)\n",
    "print(\"test_error: \", test_error) "
   ]
  }
 ],
 "metadata": {
  "kernelspec": {
   "display_name": "Python 3",
   "language": "python",
   "name": "python3"
  },
  "language_info": {
   "codemirror_mode": {
    "name": "ipython",
    "version": 3
   },
   "file_extension": ".py",
   "mimetype": "text/x-python",
   "name": "python",
   "nbconvert_exporter": "python",
   "pygments_lexer": "ipython3",
   "version": "3.7.4"
  }
 },
 "nbformat": 4,
 "nbformat_minor": 2
}
